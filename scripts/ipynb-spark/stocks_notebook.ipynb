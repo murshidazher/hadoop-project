{
 "cells": [
  {
   "cell_type": "markdown",
   "id": "c465e806",
   "metadata": {},
   "source": [
    "# stocks notebook\n",
    "\n",
    "- [Spark2 with Python notebook](https://datascienceplus.com/leveraging-hive-with-spark-using-python/)"
   ]
  },
  {
   "cell_type": "code",
   "execution_count": 1,
   "id": "eaf692c9",
   "metadata": {},
   "outputs": [
    {
     "name": "stdout",
     "output_type": "stream",
     "text": [
      "/usr/hdp/current/spark2-client/python:/usr/hdp/current/spark2-client/python/lib/py4j-0.10.6-src.zip\r\n"
     ]
    }
   ],
   "source": [
    "!echo $PYTHONPATH"
   ]
  },
  {
   "cell_type": "code",
   "execution_count": 8,
   "id": "e965929d",
   "metadata": {},
   "outputs": [
    {
     "data": {
      "text/plain": [
       "['Untitled.ipynb', '.ipynb_checkpoints', 'derby.log', 'metastore_db']"
      ]
     },
     "execution_count": 8,
     "metadata": {},
     "output_type": "execute_result"
    }
   ],
   "source": [
    "import os\n",
    "os.listdir(os.getcwd())"
   ]
  },
  {
   "cell_type": "code",
   "execution_count": 4,
   "id": "738d041b",
   "metadata": {},
   "outputs": [],
   "source": [
    "from pyspark.sql import SparkSession\n",
    "spark = SparkSession.builder.enableHiveSupport().getOrCreate()"
   ]
  },
  {
   "cell_type": "code",
   "execution_count": 5,
   "id": "3ffd17b3",
   "metadata": {},
   "outputs": [
    {
     "name": "stdout",
     "output_type": "stream",
     "text": [
      "+------------+\n",
      "|databaseName|\n",
      "+------------+\n",
      "|     default|\n",
      "|    foodmart|\n",
      "|   stocks_db|\n",
      "+------------+\n",
      "\n"
     ]
    }
   ],
   "source": [
    "spark.sql('show databases').show()"
   ]
  },
  {
   "cell_type": "code",
   "execution_count": 6,
   "id": "b3cb42a2",
   "metadata": {},
   "outputs": [
    {
     "name": "stdout",
     "output_type": "stream",
     "text": [
      "+--------+---------+-----------+\n",
      "|database|tableName|isTemporary|\n",
      "+--------+---------+-----------+\n",
      "+--------+---------+-----------+\n",
      "\n"
     ]
    }
   ],
   "source": [
    "spark.sql('show tables').show()"
   ]
  },
  {
   "cell_type": "code",
   "execution_count": 7,
   "id": "f977bb68",
   "metadata": {},
   "outputs": [
    {
     "data": {
      "text/plain": [
       "DataFrame[]"
      ]
     },
     "execution_count": 7,
     "metadata": {},
     "output_type": "execute_result"
    }
   ],
   "source": [
    "spark.sql('use stocks_db')"
   ]
  },
  {
   "cell_type": "code",
   "execution_count": 8,
   "id": "7d4feb9e",
   "metadata": {},
   "outputs": [
    {
     "name": "stdout",
     "output_type": "stream",
     "text": [
      "+---------+---------+-----------+\n",
      "| database|tableName|isTemporary|\n",
      "+---------+---------+-----------+\n",
      "|stocks_db|   stocks|      false|\n",
      "+---------+---------+-----------+\n",
      "\n"
     ]
    }
   ],
   "source": [
    "spark.sql('show tables').show()"
   ]
  },
  {
   "cell_type": "code",
   "execution_count": 10,
   "id": "64d4f929",
   "metadata": {},
   "outputs": [
    {
     "name": "stdout",
     "output_type": "stream",
     "text": [
      "+--------------------+--------------------+-------+\n",
      "|            col_name|           data_type|comment|\n",
      "+--------------------+--------------------+-------+\n",
      "|                exch|              string|   null|\n",
      "|              symbol|              string|   null|\n",
      "|                 ymd|           timestamp|   null|\n",
      "|          price_open|               float|   null|\n",
      "|          price_high|               float|   null|\n",
      "|           price_low|               float|   null|\n",
      "|         price_close|               float|   null|\n",
      "|              volume|                 int|   null|\n",
      "|     price_adj_close|               float|   null|\n",
      "|                    |                    |       |\n",
      "|# Detailed Table ...|                    |       |\n",
      "|            Database|           stocks_db|       |\n",
      "|               Table|              stocks|       |\n",
      "|               Owner|           maria_dev|       |\n",
      "|        Created Time|Sat Jul 10 20:03:...|       |\n",
      "|         Last Access|Thu Jan 01 00:00:...|       |\n",
      "|          Created By|  Spark 2.2 or prior|       |\n",
      "|                Type|            EXTERNAL|       |\n",
      "|            Provider|                hive|       |\n",
      "|    Table Properties|[transient_lastDd...|       |\n",
      "+--------------------+--------------------+-------+\n",
      "only showing top 20 rows\n",
      "\n"
     ]
    }
   ],
   "source": [
    "spark.sql(\"describe formatted stocks\").show(truncate = True)"
   ]
  },
  {
   "cell_type": "code",
   "execution_count": 11,
   "id": "47950f9b",
   "metadata": {},
   "outputs": [
    {
     "name": "stdout",
     "output_type": "stream",
     "text": [
      "+----------+-----+\n",
      "|    symbol|count|\n",
      "+----------+-----+\n",
      "|     TITAN|  992|\n",
      "|     CIPLA|  992|\n",
      "|        LT|  992|\n",
      "|      IDEA|  992|\n",
      "|TORNTPOWER|  992|\n",
      "|     L&TFH|  992|\n",
      "|      GSPL|  992|\n",
      "|       CUB|  992|\n",
      "|COROMANDEL|  992|\n",
      "| ICICIBANK|  992|\n",
      "|  MINDTREE|  992|\n",
      "|SRTRANSFIN|  992|\n",
      "|IBULHSGFIN|  992|\n",
      "|MANAPPURAM|  992|\n",
      "|  NIFTY 50|  992|\n",
      "|      SAIL|  992|\n",
      "|  DIVISLAB|  992|\n",
      "|   SYNGENE|  992|\n",
      "|  EXIDEIND|  992|\n",
      "|  HDFCBANK|  992|\n",
      "+----------+-----+\n",
      "only showing top 20 rows\n",
      "\n"
     ]
    }
   ],
   "source": [
    "spark.sql(\"select symbol, count(*) as count from stocks\\\n",
    "          group by symbol\\\n",
    "          having count(*) > 100 \\\n",
    "          order by count desc\").show()"
   ]
  },
  {
   "cell_type": "code",
   "execution_count": null,
   "id": "e06ecd71",
   "metadata": {},
   "outputs": [],
   "source": []
  }
 ],
 "metadata": {
  "kernelspec": {
   "display_name": "Python 3",
   "language": "python",
   "name": "python3"
  },
  "language_info": {
   "codemirror_mode": {
    "name": "ipython",
    "version": 3
   },
   "file_extension": ".py",
   "mimetype": "text/x-python",
   "name": "python",
   "nbconvert_exporter": "python",
   "pygments_lexer": "ipython3",
   "version": "3.6.8"
  }
 },
 "nbformat": 4,
 "nbformat_minor": 5
}
